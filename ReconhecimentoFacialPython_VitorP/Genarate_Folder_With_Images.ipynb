{
 "cells": [
  {
   "cell_type": "markdown",
   "metadata": {},
   "source": [
    "<table >\n",
    "    <tr>\n",
    "        <td><h1>&nbsp&nbsp&nbsp Gerar pasta com Faces usando o DeepFace &nbsp&nbsp&nbsp</h1></td>\n",
    "        <td><img src=\"imgs\\deepface_icon.png\" alt=\"Imagem 1\" width=\"100\" height=auto></td>\n",
    "    </tr>"
   ]
  },
  {
   "cell_type": "markdown",
   "metadata": {},
   "source": [
    "<strong><h3> 1.1 - Criar Função \"Gerar pasta com faces\" </strong>"
   ]
  },
  {
   "cell_type": "code",
   "execution_count": null,
   "metadata": {},
   "outputs": [
    {
     "ename": "",
     "evalue": "",
     "output_type": "error",
     "traceback": [
      "\u001b[1;31mFailed to start the Kernel. \n",
      "\u001b[1;31mUnable to start Kernel 'Python 3.11.5' due to a timeout waiting for the ports to get used. \n",
      "\u001b[1;31mView Jupyter <a href='command:jupyter.viewOutput'>log</a> for further details."
     ]
    }
   ],
   "source": [
    "\n",
    "import os\n",
    "import cv2\n",
    "from deepface import DeepFace\n",
    "\n",
    "def generateFolderWithFaces(output_folder, video_path, target_image_path):\n",
    "                #(Pasta onde vai ser salvo, caminho de video, Imagem de referência)\n",
    "\n",
    "    max_saved_faces=10  # Maximo de imagens a serem salvas\n",
    "    step_frame=20  # Frames a serem pulados\n",
    "    detected_faces_list = []  # Lista para armazenar as faces detectadas\n",
    "    detected_faces_counter = 0  # Contador de faces detectadas\n",
    "    frame_counter = 0  # Contador de frames\n",
    "\n",
    "    # Carregue a imagem alvo\n",
    "    target_image = cv2.imread(target_image_path)\n",
    "\n",
    "    # Carregue o vídeo\n",
    "    cap = cv2.VideoCapture(video_path)\n",
    "\n",
    "    # Enquanto o Video estiver aberto:\n",
    "    while cap.isOpened():\n",
    "\n",
    "        # Contabiliza frames\n",
    "        frame_counter += 1\n",
    "\n",
    "        # Pega o próximo frame\n",
    "        ret, frame = cap.read()\n",
    "\n",
    "        # Se Acabou o vídeo ou detectou o limite de faces: Pare\n",
    "        if not ret or detected_faces_counter >= max_saved_faces:\n",
    "            break\n",
    "\n",
    "        # \"Pula\" alguns frames\n",
    "        if frame_counter % step_frame != 0:\n",
    "            continue\n",
    "\n",
    "        # Detecte as faces no frame usando DeepFace.verify\n",
    "        #detected_faces = DeepFace.verify(frame, target_image, \"VGG-Face\", enforce_detection=False)\n",
    "        \n",
    "        # Se no dicionario 'verified' for verdadeiro e 'similarity_metric' for \"cosine\":\n",
    "        # Ou seja se for verificada uma face e ela for cosena (no caso muito parecida com a imagem de referência):\n",
    "        if detected_faces ['verified'] == True and detected_faces['similarity_metric'] == \"cosine\":\n",
    "            \n",
    "            # Total de faces detectadas até o momento\n",
    "            detected_faces_counter += 1\n",
    "\n",
    "            #Para cada Face detectada:\n",
    "            for i, face in enumerate(detected_faces):\n",
    "\n",
    "                # Verifique se a face é igual à imagem alvo\n",
    "                (x, y, w, h) = (int(detected_faces['facial_areas']['img1']['x']), int(detected_faces['facial_areas']['img1']['y']), int(detected_faces['facial_areas']['img1']['w']), int(detected_faces['facial_areas']['img1']['h']))\n",
    "                face_crop = frame[y:y + h, x:x + w]\n",
    "\n",
    "                #condiciona a econtrar faces apenas com esses tamanhos entre 150px a 280px\n",
    "                if h >= 150 and h <=  280:\n",
    "                    # A função DeepFace retona o frame em BGR sendo assim tranformamos as faces recordas para RGB \n",
    "                    cv2.cvtColor(face_crop, cv2.COLOR_BGR2RGB)\n",
    "\n",
    "                    # Adicionar a face detectada à lista\n",
    "                    detected_faces_list.append(face_crop)\n",
    "\n",
    "                    # Região das faces com o o nuemro de faces ja encontradas e qual seu frame \n",
    "                    img_path = os.path.join(output_folder, f\"face_{detected_faces_counter}_{frame_counter}.jpg\")\n",
    "\n",
    "                    # Escreve o arquivo na pasta\n",
    "                    cv2.imwrite(img_path, face_crop)\n",
    "\n",
    "                \n",
    "                    # Adicionar retângulo ao redor da face e marcações para exibir bonitinho\n",
    "                    cv2.rectangle(frame, (x, y), (x + w, y + h), (255, 255, 0), 4)\n",
    "\n",
    "    # Fechar o vídeo após processamento\n",
    "    cap.release()\n",
    "\n",
    "    # Retornar a lista de faces detectadas\n",
    "    return detected_faces_list\n"
   ]
  },
  {
   "cell_type": "markdown",
   "metadata": {},
   "source": [
    "<strong><h3>1.2 - Adicionar caminhos para o Leon"
   ]
  },
  {
   "cell_type": "code",
   "execution_count": null,
   "metadata": {},
   "outputs": [
    {
     "ename": "",
     "evalue": "",
     "output_type": "error",
     "traceback": [
      "\u001b[1;31mFailed to start the Kernel. \n",
      "\u001b[1;31mUnable to start Kernel 'Python 3.11.5' due to a timeout waiting for the ports to get used. \n",
      "\u001b[1;31mView Jupyter <a href='command:jupyter.viewOutput'>log</a> for further details."
     ]
    }
   ],
   "source": [
    "# Caminho para o vídeo de entrada para serem retiradas as faces\n",
    "video_path = 'vids\\leon&nilce.mp4'\n",
    "\n",
    "# Caminho para a foto do rosto da pessoa desejada\n",
    "foto_path = 'imgs\\img_Leon.jpg'\n",
    "\n",
    "# Pasta para salvar as imagens recortadas\n",
    "folder_name = 'imgs\\Folder_leon'\n",
    "\n",
    "# Chamada da Função\n",
    "Leon_faces = generateFolderWithFaces(folder_name, video_path, foto_path)\n"
   ]
  },
  {
   "cell_type": "markdown",
   "metadata": {},
   "source": [
    "<strong><h3>1.3 - Adicionar caminhos para Nilce"
   ]
  },
  {
   "cell_type": "code",
   "execution_count": null,
   "metadata": {},
   "outputs": [
    {
     "ename": "",
     "evalue": "",
     "output_type": "error",
     "traceback": [
      "\u001b[1;31mFailed to start the Kernel. \n",
      "\u001b[1;31mUnable to start Kernel 'Python 3.11.5' due to a timeout waiting for the ports to get used. \n",
      "\u001b[1;31mView Jupyter <a href='command:jupyter.viewOutput'>log</a> for further details."
     ]
    }
   ],
   "source": [
    "# Caminho para o vídeo de entrada\n",
    "video_path = 'vids\\leon&nilce.mp4'\n",
    "\n",
    "# Caminho para a foto do rosto da pessoa desejada\n",
    "foto_path = 'imgs\\img_Nilce.jpg'\n",
    "\n",
    "# Pasta para salvar as imagens recortadas\n",
    "folder_name = 'imgs\\Folder_nilce'\n",
    "\n",
    "Nilce_faces = generateFolderWithFaces(folder_name, video_path, foto_path)"
   ]
  },
  {
   "cell_type": "markdown",
   "metadata": {},
   "source": [
    "<strong><h3> 2.1 - Função de mostrar Imagens utilizando a matplotlib"
   ]
  },
  {
   "cell_type": "code",
   "execution_count": null,
   "metadata": {},
   "outputs": [
    {
     "ename": "",
     "evalue": "",
     "output_type": "error",
     "traceback": [
      "\u001b[1;31mFailed to start the Kernel. \n",
      "\u001b[1;31mUnable to start Kernel 'Python 3.11.5' due to a timeout waiting for the ports to get used. \n",
      "\u001b[1;31mView Jupyter <a href='command:jupyter.viewOutput'>log</a> for further details."
     ]
    }
   ],
   "source": [
    "import matplotlib.pyplot as plt\n",
    "\n",
    "def display_images(image_folder, num_images=5):\n",
    "\n",
    "    # Lista de nomes de arquivo das imagens na pasta\n",
    "    file_names = os.listdir(image_folder)\n",
    "\n",
    "    # Crie uma figura com subplots para exibir as imagens\n",
    "    fig, axes = plt.subplots(1, num_images, figsize=(16, 16))\n",
    "\n",
    "    # Loop para exibir as primeiras num_images imagens\n",
    "    for i in range(num_images):\n",
    "        # Leia a imagem do arquivo\n",
    "        image_path = os.path.join(image_folder, file_names[i])\n",
    "        image = cv2.imread(image_path)\n",
    "\n",
    "        # Converta a imagem para o formato RGB (matplotlib usa RGB)\n",
    "        image_rgb = cv2.cvtColor(image, cv2.COLOR_BGR2RGB)\n",
    "\n",
    "        # Exiba a imagem no subplot correspondente\n",
    "        axes[i].imshow(image_rgb)\n",
    "        axes[i].axis('off')  # Desative os eixos\n",
    "\n",
    "        # Defina um título para a imagem\n",
    "        axes[i].set_title(f'Face {i + 1}', fontsize=12)\n",
    "\n",
    "    # Ajuste o espaçamento entre os subplots\n",
    "    plt.tight_layout()\n",
    "\n",
    "    # Exiba as imagens\n",
    "    plt.show()"
   ]
  },
  {
   "cell_type": "markdown",
   "metadata": {},
   "source": [
    "<strong><h3>2.1 - Chamada para o Leon\n"
   ]
  },
  {
   "cell_type": "code",
   "execution_count": null,
   "metadata": {},
   "outputs": [
    {
     "ename": "",
     "evalue": "",
     "output_type": "error",
     "traceback": [
      "\u001b[1;31mFailed to start the Kernel. \n",
      "\u001b[1;31mUnable to start Kernel 'Python 3.11.5' due to a timeout waiting for the ports to get used. \n",
      "\u001b[1;31mView Jupyter <a href='command:jupyter.viewOutput'>log</a> for further details."
     ]
    }
   ],
   "source": [
    "\n",
    "folder_name = 'imgs\\Folder_Leon'\n",
    "display_images(folder_name, num_images=5)"
   ]
  },
  {
   "cell_type": "markdown",
   "metadata": {},
   "source": [
    "<strong><h3>2.2 - Chamada para a Nilce\n"
   ]
  },
  {
   "cell_type": "code",
   "execution_count": null,
   "metadata": {},
   "outputs": [
    {
     "ename": "",
     "evalue": "",
     "output_type": "error",
     "traceback": [
      "\u001b[1;31mFailed to start the Kernel. \n",
      "\u001b[1;31mUnable to start Kernel 'Python 3.11.5' due to a timeout waiting for the ports to get used. \n",
      "\u001b[1;31mView Jupyter <a href='command:jupyter.viewOutput'>log</a> for further details."
     ]
    }
   ],
   "source": [
    "folder_name = 'imgs\\Folder_Nilce'\n",
    "display_images(folder_name, num_images=5)"
   ]
  }
 ],
 "metadata": {
  "kernelspec": {
   "display_name": "Python 3",
   "language": "python",
   "name": "python3"
  },
  "language_info": {
   "codemirror_mode": {
    "name": "ipython",
    "version": 3
   },
   "file_extension": ".py",
   "mimetype": "text/x-python",
   "name": "python",
   "nbconvert_exporter": "python",
   "pygments_lexer": "ipython3",
   "version": "3.11.5"
  },
  "orig_nbformat": 4
 },
 "nbformat": 4,
 "nbformat_minor": 2
}
